{
 "cells": [
  {
   "cell_type": "markdown",
   "id": "0",
   "metadata": {},
   "source": [
    "# Exploratory Analysis for LLM Travel Chatbot\n",
    "\n",
    "- This notebook contains exploratory analysis to inform the development of a large language model (LLM) chatbot designed to assist users with questions about their personal travel itineraries.  \n",
    "   \n",
    "   \n",
    "---\n",
    "   \n",
    "## Objectives\n",
    "- Extract gmail from dafamtripbot@gmail.com\n",
    "- Use LLM to extract flight info from text \n"
   ]
  },
  {
   "cell_type": "code",
   "execution_count": null,
   "id": "1",
   "metadata": {},
   "outputs": [],
   "source": [
    "import base64\n",
    "import json\n",
    "import os\n",
    "from datetime import datetime, date, time\n",
    "from dotenv import load_dotenv\n",
    "from pathlib import Path\n",
    "from typing import Literal, List, Optional\n",
    "\n",
    "from bs4 import BeautifulSoup  \n",
    "from google.oauth2.credentials import Credentials\n",
    "from google_auth_oauthlib.flow import InstalledAppFlow\n",
    "from googleapiclient.discovery import build\n",
    "from google.auth.transport.requests import Request\n",
    "from langchain_openai import ChatOpenAI\n",
    "from langchain.prompts import ChatPromptTemplate\n",
    "from langchain_core.output_parsers import PydanticOutputParser\n",
    "from pydantic import BaseModel, Field\n",
    "\n"
   ]
  },
  {
   "cell_type": "code",
   "execution_count": null,
   "id": "2",
   "metadata": {},
   "outputs": [],
   "source": [
    "load_dotenv(dotenv_path=Path.home() / \".env\")"
   ]
  },
  {
   "cell_type": "code",
   "execution_count": null,
   "id": "3",
   "metadata": {},
   "outputs": [],
   "source": [
    "SCOPES = ['https://www.googleapis.com/auth/gmail.readonly']"
   ]
  },
  {
   "cell_type": "code",
   "execution_count": null,
   "id": "4",
   "metadata": {},
   "outputs": [],
   "source": [
    "class Passenger(BaseModel):\n",
    "    first_name: str\n",
    "    last_name: str\n",
    "\n",
    "class FlightDetails(BaseModel):\n",
    "    flight_number: str\n",
    "    airline_name: str\n",
    "    departure_date: Optional[date] = None\n",
    "    departure_time: Optional[time] = None\n",
    "    arrival_date: Optional[datetime] = None\n",
    "    arrival_time: Optional[str] = None\n",
    "    origin: str\n",
    "    destination: str\n",
    "    passengers: List[Passenger]\n",
    "\n",
    "class FlightManifest(BaseModel):\n",
    "    flights: List[FlightDetails]\n",
    "    \n",
    "flight_parser = PydanticOutputParser(pydantic_object=FlightManifest)\n"
   ]
  },
  {
   "cell_type": "code",
   "execution_count": null,
   "id": "5",
   "metadata": {},
   "outputs": [],
   "source": [
    "def get_gmail_service():\n",
    "    creds = None\n",
    "    # Load saved credentials if available\n",
    "    if Path('token.json').exists():\n",
    "        creds = Credentials.from_authorized_user_file('token.json', SCOPES)\n",
    "\n",
    "    # If no valid credentials, run OAuth flow\n",
    "    if not creds or not creds.valid:\n",
    "        if creds and creds.expired and creds.refresh_token:\n",
    "            creds.refresh(Request())\n",
    "        else:\n",
    "            # Get credentials from environment variables\n",
    "            client_config = {\n",
    "                \"installed\": {\n",
    "                    \"client_id\": os.getenv(\"TRAVELBOT_GMAIL_CLIENT_ID\"),\n",
    "                    \"client_secret\": os.getenv(\"TRAVELBOT_GMAIL_CLIENT_SECRET\"),\n",
    "                    \"auth_uri\": \"https://accounts.google.com/o/oauth2/auth\",\n",
    "                    \"token_uri\": \"https://oauth2.googleapis.com/token\",\n",
    "                    \"redirect_uris\": [\"http://localhost\"]\n",
    "                }\n",
    "            }\n",
    "\n",
    "            flow = InstalledAppFlow.from_client_config(client_config, SCOPES)\n",
    "            creds = flow.run_local_server(port=0)\n",
    "\n",
    "        # Save the credentials for next run\n",
    "        with open('token.json', 'w') as token:\n",
    "            token.write(creds.to_json())\n",
    "\n",
    "    return build('gmail', 'v1', credentials=creds)"
   ]
  },
  {
   "cell_type": "code",
   "execution_count": null,
   "id": "6",
   "metadata": {},
   "outputs": [],
   "source": [
    "def get_latest_email_id():\n",
    "    service = get_gmail_service()\n",
    "    # Get list of messages\n",
    "    results = service.users().messages().list(userId='me', maxResults=1).execute()\n",
    "    messages = results.get('messages', [])\n",
    "\n",
    "    if not messages:\n",
    "        print(\"No messages found.\")\n",
    "        return\n",
    "\n",
    "    # Get the message details\n",
    "    msg_id = messages[0]['id']\n",
    "    return msg_id\n",
    "\n",
    " "
   ]
  },
  {
   "cell_type": "code",
   "execution_count": null,
   "id": "7",
   "metadata": {},
   "outputs": [],
   "source": [
    "def extract_email_as_json(service, message_id):\n",
    "    \"\"\"Extracts email metadata and body content as JSON from Gmail API using message ID.\"\"\"\n",
    "    msg = service.users().messages().get(userId='me', id=message_id, format='full').execute()\n",
    "    \n",
    "    payload = msg.get(\"payload\", {})\n",
    "    headers = payload.get(\"headers\", [])\n",
    "\n",
    "    def get_header(name):\n",
    "        return next((h['value'] for h in headers if h['name'].lower() == name.lower()), None)\n",
    "\n",
    "    # Extract headers\n",
    "    email_data = {\n",
    "        \"from\": get_header(\"From\"),\n",
    "        \"to\": get_header(\"To\"),\n",
    "        \"date\": get_header(\"Date\"),\n",
    "        \"subject\": get_header(\"Subject\"),\n",
    "        \"message_id\": message_id,\n",
    "        \"body\": None  # populated below\n",
    "    }\n",
    "\n",
    "    # Extract body (prefer text/plain over text/html)\n",
    "    def extract_body(payload):\n",
    "        if payload.get(\"mimeType\") == \"text/plain\":\n",
    "            return base64.urlsafe_b64decode(payload[\"body\"].get(\"data\", \"\")).decode(\"utf-8\", errors=\"ignore\")\n",
    "        elif payload.get(\"mimeType\") == \"text/html\":\n",
    "            html = base64.urlsafe_b64decode(payload[\"body\"].get(\"data\", \"\")).decode(\"utf-8\", errors=\"ignore\")\n",
    "            return BeautifulSoup(html, \"html.parser\").get_text()\n",
    "        elif \"parts\" in payload:\n",
    "            for part in payload[\"parts\"]:\n",
    "                body = extract_body(part)\n",
    "                if body:\n",
    "                    return body\n",
    "        return None\n",
    "\n",
    "    email_data[\"body\"] = extract_body(payload)\n",
    "\n",
    "    return email_data"
   ]
  },
  {
   "cell_type": "code",
   "execution_count": null,
   "id": "8",
   "metadata": {},
   "outputs": [],
   "source": [
    "msg_id = get_latest_email_id()\n",
    "data = extract_email_as_json(get_gmail_service(), msg_id)"
   ]
  },
  {
   "cell_type": "code",
   "execution_count": null,
   "id": "9",
   "metadata": {},
   "outputs": [],
   "source": [
    "flight_email = data.get('body', '')"
   ]
  },
  {
   "cell_type": "code",
   "execution_count": null,
   "id": "10",
   "metadata": {},
   "outputs": [],
   "source": [
    "# Using environment variable to authenticate \n",
    "client = ChatOpenAI(model=\"gpt-4o-mini\")"
   ]
  },
  {
   "cell_type": "code",
   "execution_count": null,
   "id": "11",
   "metadata": {},
   "outputs": [],
   "source": [
    "extract_flight = \"\"\"I am building a trip itinerary for a family vacation. The following text in triple quotes contains flight information from the email confirmation I received from the airline.  There can be multiple passengers and flights in a single email confirmation. Extract the following relevant passenger and flight information.\n",
    "\n",
    "The following pieces of information should be collected for each passenger that is traveling. Remember, there can be multiple passengers on each flight\n",
    "- first_name \n",
    "- last_name \n",
    "\n",
    "The following pieces of information should be collected for each flight. There are usually multiple flights per email. \n",
    "- departure_date\n",
    "- departure_time\n",
    "- arrival_date\n",
    "- arrival_time \n",
    "- origin\n",
    "- destination\n",
    "- flight_number\n",
    "- airline_name\n",
    "\n",
    " ```{email}```\n",
    "\n",
    "{format_instructions}\n",
    "\"\"\"\n",
    "\n",
    "\n",
    "\n",
    "extract_flight_prompt = ChatPromptTemplate.from_messages([\n",
    "    (\"system\", \"Extract structured flight and passenger information from the text and convert it to JSON using ISO 8601 format for all datetime fields.\"),\n",
    "    (\"human\", extract_flight)\n",
    "])\n",
    "\n",
    "flight_chain = extract_flight_prompt | client | flight_parser\n"
   ]
  },
  {
   "cell_type": "code",
   "execution_count": null,
   "id": "12",
   "metadata": {},
   "outputs": [],
   "source": [
    "flight_chainparams = {'email': flight_email,\n",
    "                      'format_instructions': flight_parser.get_format_instructions()}\n",
    "flight_response = flight_chain.invoke(flight_chainparams)"
   ]
  },
  {
   "cell_type": "code",
   "execution_count": null,
   "id": "13",
   "metadata": {},
   "outputs": [],
   "source": [
    "flight_response.dict()"
   ]
  },
  {
   "cell_type": "code",
   "execution_count": null,
   "id": "14",
   "metadata": {},
   "outputs": [],
   "source": []
  },
  {
   "cell_type": "code",
   "execution_count": null,
   "id": "15",
   "metadata": {},
   "outputs": [],
   "source": []
  },
  {
   "cell_type": "code",
   "execution_count": null,
   "id": "16",
   "metadata": {},
   "outputs": [],
   "source": []
  }
 ],
 "metadata": {
  "kernelspec": {
   "display_name": "base",
   "language": "python",
   "name": "python3"
  },
  "language_info": {
   "codemirror_mode": {
    "name": "ipython",
    "version": 3
   },
   "file_extension": ".py",
   "mimetype": "text/x-python",
   "name": "python",
   "nbconvert_exporter": "python",
   "pygments_lexer": "ipython3",
   "version": "3.11.7"
  }
 },
 "nbformat": 4,
 "nbformat_minor": 5
}
