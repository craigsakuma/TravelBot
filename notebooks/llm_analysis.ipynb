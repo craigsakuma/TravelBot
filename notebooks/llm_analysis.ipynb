{
 "cells": [
  {
   "cell_type": "markdown",
   "id": "0",
   "metadata": {},
   "source": [
    "# Exploratory Analysis for LLM Travel Chatbot\n",
    "\n",
    "- This notebook contains exploratory analysis to inform the development of a large language model (LLM) chatbot designed to assist users with questions about their personal travel itineraries.  \n",
    "   \n",
    "   \n",
    "---\n",
    "   \n",
    "## Objectives\n",
    "\n",
    "- Create API calls to OpenAI \n"
   ]
  },
  {
   "cell_type": "code",
   "execution_count": null,
   "id": "1",
   "metadata": {},
   "outputs": [],
   "source": [
    "from langchain.chat_models import ChatOpenAI\n",
    "from langchain.prompts import ChatPromptTemplate"
   ]
  },
  {
   "cell_type": "code",
   "execution_count": null,
   "id": "2",
   "metadata": {},
   "outputs": [],
   "source": [
    "# option 1 - Manual\n",
    "# client = ChatOpenAI(api_key=\"replace with your personal API key\", model=\"gpt-3.5-turbo\") \n",
    "\n",
    "# option 2 - Environment variable \n",
    "client = ChatOpenAI(model=\"gpt-3.5-turbo\")"
   ]
  },
  {
   "cell_type": "code",
   "execution_count": null,
   "id": "3",
   "metadata": {},
   "outputs": [],
   "source": [
    "extract_flight = \"\"\"I am building a trip itinerary for a family vacation. The following text in triple quotes contains flight information from the email confirmation from the airline.  Extract the relevant flight information (e.g., passenger first name, passenger last name, dates, departure time, arrival time, origin, destination, flight number and airline name) from the email and return the response in JSON format. The email contains roundtrip flight information so each traveler should have both a departure flight and a return flight ```{email}```\n",
    "\n",
    "Format all dates in the following format YYYY-MM-DD (e.g., November 19, 2025 would be formatted as 2025-11-19)\n",
    "Format all times using military time (e.g., 1:00PM would be formatted as 13:00)\n",
    "\"\"\"\n",
    "flight_template = ChatPromptTemplate.from_template(extract_flight)"
   ]
  },
  {
   "cell_type": "code",
   "execution_count": null,
   "id": "4",
   "metadata": {},
   "outputs": [],
   "source": [
    "flight_chain = flight_template | client"
   ]
  },
  {
   "cell_type": "code",
   "execution_count": null,
   "id": "5",
   "metadata": {},
   "outputs": [],
   "source": [
    "flight_email = \"\"\"ArithmeticErrorUnited Airlines\tTue, Jun 24, 2025\n",
    "Thank you for choosing United.\n",
    "A receipt of your purchase is shown below. Please retain this email receipt for your records.\n",
    "Get ready for your trip: Visit the Travel-Ready Center, your one-stop digital assistant, to find out about important travel requirements specific to your trip.\n",
    "Confirmation Number:\n",
    "BKVCRP\n",
    "Flight 1 of 2 UA1187\t\tClass: United Economy (N)\n",
    "Sat, Aug 02, 2025\t\tSat, Aug 02, 2025\n",
    "06:46 PM\t\t10:26 PM\n",
    "San Francisco, CA, US (SFO)\t\tCalgary, AB, CA (YYC)\n",
    "Flight 2 of 2 UA2650\t\tClass: United Economy (N)\n",
    "Sun, Aug 10, 2025\t\tSun, Aug 10, 2025\n",
    "07:30 AM\t\t09:26 AM\n",
    "Calgary, AB, CA (YYC)\t\tSan Francisco, CA, US (SFO)\n",
    "Traveler Details\n",
    "SAKUMA/CRAIGMASAYA\n",
    "eTicket number: 0162498517752\tSeats: SFO-YYC -----\n",
    "Frequent Flyer: UA-XXXXX542 Premier Silver\tYYC-SFO -----\n",
    "HUDKA/KIRANAMBAVI\n",
    "eTicket number: 0162498517753\tSeats: SFO-YYC -----\n",
    "Frequent Flyer: UA-XXXXX843 Member\tYYC-SFO -----\n",
    "Purchase Summary\n",
    "Method of payment:\tVisa ending in 7665\n",
    "Date of purchase:\tTue, Jun 24, 2025\n",
    "Airfare:\t332.00\n",
    "U.S. Transportation Tax:\t24.90\n",
    "Passenger Civil Aviation Security Service Fee:\t5.60\n",
    "U.S. Flight Segment Tax:\t10.40\n",
    "Canadian Air Travellers Security Charge:\t12.30\n",
    "Canada Airport Improvement Fee:\t25.50\n",
    "Canada Goods and Services Tax:\t1.28\n",
    "U.S. APHIS User Fee:\t3.71\n",
    "U.S. Immigration User Fee:\t7.00\n",
    "U.S. Customs User Fee:\t7.20\n",
    "U.S. Passenger Facility Charge:\t4.50\n",
    "Total Per Passenger:\t434.39 USD\n",
    "Total:\t868.78 USD\n",
    "Fare Rules\n",
    "Additional charges may apply for changes in addition to any fare rules listed.\n",
    "NRF-BE/NOCHGDAFTDPT/NOASR\n",
    "MileagePlus Accrual Details\n",
    "Craigmasaya Sakuma\n",
    "Date\tFlight\tFrom/To\tAward Miles\tPQP\tPQF\n",
    "Sat, Aug 02, 2025\t1187\tSan Francisco, CA, US (SFO) to\n",
    "Calgary, AB, CA (YYC)\t1162\t166\t0\n",
    "Sun, Aug 10, 2025\t2650\tCalgary, AB, CA (YYC) to\n",
    "San Francisco, CA, US (SFO)\t1162\t166\t0\n",
    "MileagePlus accrual totals:\t2324\t332\t0\n",
    "Kiranambavi Hudka\n",
    "Date\tFlight\tFrom/To\tAward Miles\tPQP\tPQF\n",
    "Sat, Aug 02, 2025\t1187\tSan Francisco, CA, US (SFO) to\n",
    "Calgary, AB, CA (YYC)\t830\t166\t0\n",
    "Sun, Aug 10, 2025\t2650\tCalgary, AB, CA (YYC) to\n",
    "San Francisco, CA, US (SFO)\t830\t166\t0\n",
    "MileagePlus accrual totals:\t1660\t332\t0\n",
    "Baggage allowance and charges for this itinerary\n",
    "Origin and destination for checked baggage\t1st bag charge\t2nd bag charge\t1st bag weight and dimensions\t2nd bag weight and dimensions\n",
    "Sat, Aug 02, 2025\n",
    "San Francisco, CA, US (SFO)\n",
    "to Calgary, AB, CA (YYC)\t0.00 USD\t50.00 USD\t70lbs(32kg) - 62in(157cm)\t70lbs(32kg) - 62in(157cm)\n",
    "Sun, Aug 10, 2025\n",
    "Calgary, AB, CA (YYC)\n",
    "to San Francisco, CA, US (SFO)\t0.00 CAD\t50.00 CAD\t70lbs(32kg) - 62in(157cm)\t70lbs(32kg) - 62in(157cm)\n",
    "Baggage check-in must occur with United or United Express, and you must have valid MileagePlus Premier® Silver membership at time of check-in to qualify for waiver of the service charge for the first checked bag (within specified size and weight limits).\n",
    "\"\"\""
   ]
  },
  {
   "cell_type": "code",
   "execution_count": null,
   "id": "6",
   "metadata": {},
   "outputs": [],
   "source": [
    "flight_chainparams = {'email': flight_email}"
   ]
  },
  {
   "cell_type": "code",
   "execution_count": null,
   "id": "7",
   "metadata": {},
   "outputs": [],
   "source": [
    "response = flight_chain.invoke(flight_chainparams)"
   ]
  },
  {
   "cell_type": "code",
   "execution_count": null,
   "id": "8",
   "metadata": {},
   "outputs": [],
   "source": [
    "print(response.content)"
   ]
  },
  {
   "cell_type": "code",
   "execution_count": null,
   "id": "9",
   "metadata": {},
   "outputs": [],
   "source": []
  },
  {
   "cell_type": "code",
   "execution_count": null,
   "id": "10",
   "metadata": {},
   "outputs": [],
   "source": []
  }
 ],
 "metadata": {
  "kernelspec": {
   "display_name": "base",
   "language": "python",
   "name": "python3"
  },
  "language_info": {
   "codemirror_mode": {
    "name": "ipython",
    "version": 3
   },
   "file_extension": ".py",
   "mimetype": "text/x-python",
   "name": "python",
   "nbconvert_exporter": "python",
   "pygments_lexer": "ipython3",
   "version": "3.11.7"
  }
 },
 "nbformat": 4,
 "nbformat_minor": 5
}
